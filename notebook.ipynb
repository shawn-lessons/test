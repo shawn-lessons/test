{
 "cells": [
  {
   "cell_type": "code",
   "execution_count": 1,
   "metadata": {
    "dotnet_interactive": {
     "language": "csharp"
    },
    "polyglot_notebook": {
     "kernelName": "csharp"
    }
   },
   "outputs": [],
   "source": [
    "string StringJoin(string[] parts, string str2)\n",
    "{\n",
    "    string result = \"\";\n",
    "    for(int i = 0; i < parts.Length; i++)\n",
    "    {\n",
    "        string part = parts[i];\n",
    "        result = result + part;\n",
    "        if (i != (parts.Length - 1))\n",
    "            result = result + str2;\n",
    "    }\n",
    "    return result;\n",
    "} "
   ]
  },
  {
   "cell_type": "code",
   "execution_count": 2,
   "metadata": {
    "dotnet_interactive": {
     "language": "csharp"
    },
    "polyglot_notebook": {
     "kernelName": "csharp"
    }
   },
   "outputs": [
    {
     "name": "stdout",
     "output_type": "stream",
     "text": [
      "The-quick-brown-fox-jumped-over-the-lazy-dog\r\n"
     ]
    }
   ],
   "source": [
    "string input = \"The quick brown fox jumped over the lazy dog\";\n",
    "string[] parts = input.Split();\n",
    "Console.WriteLine(StringJoin(parts, \"-\"));"
   ]
  }
 ],
 "metadata": {
  "kernelspec": {
   "display_name": ".NET (C#)",
   "language": "C#",
   "name": ".net-csharp"
  },
  "language_info": {
   "name": "polyglot-notebook"
  },
  "polyglot_notebook": {
   "kernelInfo": {
    "defaultKernelName": "csharp",
    "items": [
     {
      "aliases": [],
      "languageName": "csharp",
      "name": "csharp"
     }
    ]
   }
  }
 },
 "nbformat": 4,
 "nbformat_minor": 2
}
